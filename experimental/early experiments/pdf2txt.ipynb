{
 "cells": [
  {
   "cell_type": "code",
   "execution_count": 7,
   "metadata": {},
   "outputs": [
    {
     "name": "stderr",
     "output_type": "stream",
     "text": [
      "c:\\Users\\newac\\OneDrive\\Desktop\\Master\\.venv\\Lib\\site-packages\\tqdm\\auto.py:21: TqdmWarning: IProgress not found. Please update jupyter and ipywidgets. See https://ipywidgets.readthedocs.io/en/stable/user_install.html\n",
      "  from .autonotebook import tqdm as notebook_tqdm\n"
     ]
    }
   ],
   "source": [
    "from src import get_gemini_model, create_vector_store\n",
    "\n",
    "model = get_gemini_model()\n",
    "vector_store = create_vector_store()"
   ]
  },
  {
   "cell_type": "code",
   "execution_count": 9,
   "metadata": {},
   "outputs": [
    {
     "name": "stdout",
     "output_type": "stream",
     "text": [
      "Why did the AI cross the road?\n",
      "\n",
      "It calculated that the probability of successfully reaching the other side, based on traffic patterns, pedestrian density, and weather conditions, was 99.9997%, which exceeded its predetermined risk threshold. It also detected a charging station on the opposite side, and its battery level was at 12%.\n",
      "\n"
     ]
    }
   ],
   "source": [
    "response = model.generate_content(\"Tell me a joke about AI.\")\n",
    "print(response.text)  # Print the response"
   ]
  },
  {
   "cell_type": "code",
   "execution_count": 10,
   "metadata": {},
   "outputs": [
    {
     "name": "stderr",
     "output_type": "stream",
     "text": [
      "<>:3: SyntaxWarning: invalid escape sequence '\\i'\n",
      "<>:3: SyntaxWarning: invalid escape sequence '\\i'\n",
      "C:\\Users\\newac\\AppData\\Local\\Temp\\ipykernel_29176\\3293934331.py:3: SyntaxWarning: invalid escape sequence '\\i'\n",
      "  image = Image.open(\"Images\\image.png\")\n"
     ]
    }
   ],
   "source": [
    "from PIL import Image\n",
    "\n",
    "image = Image.open(\"Images\\image.png\")\n"
   ]
  },
  {
   "cell_type": "code",
   "execution_count": null,
   "metadata": {},
   "outputs": [
    {
     "name": "stderr",
     "output_type": "stream",
     "text": [
      "<>:3: SyntaxWarning: invalid escape sequence '\\i'\n",
      "<>:3: SyntaxWarning: invalid escape sequence '\\i'\n",
      "C:\\Users\\newac\\AppData\\Local\\Temp\\ipykernel_26368\\3203605323.py:3: SyntaxWarning: invalid escape sequence '\\i'\n",
      "  image = Image.open(\"Images\\image.png\")\n"
     ]
    },
    {
     "name": "stdout",
     "output_type": "stream",
     "text": [
      "Here are the bounding box detections:\n",
      "```json\n",
      "[\n",
      "  {\"box_2d\": [60, 56, 76, 79], \"label\": \"08\"},\n",
      "  {\"box_2d\": [80, 56, 96, 92], \"label\": \"Drukning\"},\n",
      "  {\"box_2d\": [103, 56, 122, 119], \"label\": \"OM DRUKNING\"},\n",
      "  {\"box_2d\": [60, 243, 75, 310], \"label\": \"LOKAL TILPASNING\"},\n",
      "  {\"box_2d\": [73, 721, 87, 762], \"label\": \"STARTKORT\"},\n",
      "  {\"box_2d\": [73, 832, 87, 882], \"label\": \"SOMATIKK FORTS.\"},\n",
      "  {\"box_2d\": [132, 721, 160, 811], \"label\": \"01\\nBevisstløs voksen\\n- puster ikke normalt\"},\n",
      "  {\"box_2d\": [107, 832, 121, 861], \"label\": \"20 Diabetes\"},\n",
      "  {\"box_2d\": [109, 900, 123, 944], \"label\": \"BRANN I BYGNING\"},\n",
      "  {\"box_2d\": [142, 832, 156, 916], \"label\": \"21 Dødsfall/mulig dødsfall\"},\n",
      "  {\"box_2d\": [137, 916, 157, 986], \"label\": \"CBRNE/AKUTT FORURENSNING\"},\n",
      "  {\"box_2d\": [174, 721, 199, 811], \"label\": \"02\\nBevisstløst barn og nyfødt\\n-puster ikke normalt\"},\n",
      "  {\"box_2d\": [179, 832, 193, 915], \"label\": \"22 Feber/infeksjon/ sepsis\"},\n",
      "  {\"box_2d\": [180, 916, 193, 970], \"label\": \"HENDELSE I TUNNEL\"},\n",
      "  {\"box_2d\": [211, 721, 245, 810], \"label\": \"03\\nBevisstløs/redusert\\nbevissthet-puster normalt\"},\n",
      "  {\"box_2d\": [216, 832, 244, 879], \"label\": \"23\\nForgiftning- ikke\\nrusrelatert\"},\n",
      "  {\"box_2d\": [219, 916, 233, 985], \"label\": \"JERNBANE-/SPORVEISULYKKE\"},\n",
      "  {\"box_2d\": [258, 721, 272, 780], \"label\": \"04 Fremmedlegeme\"},\n",
      "  {\"box_2d\": [258, 832, 272, 870], \"label\": \"24 Funksjonssvikt\"},\n",
      "  {\"box_2d\": [258, 900, 272, 966], \"label\": \"LUFTSPORTSULYKKE\"},\n",
      "  {\"box_2d\": [289, 721, 306, 775], \"label\": \"PSYKISK HELSE\"},\n",
      "  {\"box_2d\": [296, 832, 310, 853], \"label\": \"25 Fødsel\"},\n",
      "  {\"box_2d\": [296, 900, 310, 946], \"label\": \"PERSON I VANN\"},\n",
      "  {\"box_2d\": [332, 721, 349, 792], \"label\": \"05 Psykisk helse/lidelse\"},\n",
      "  {\"box_2d\": [335, 832, 349, 914], \"label\": \"26 Gynekologi/svangerskap\"},\n",
      "  {\"box_2d\": [338, 916, 352, 985], \"label\": \"SJØULYKKE/HENDELSE PÅ VANN\"},\n",
      "  {\"box_2d\": [368, 721, 394, 800], \"label\": \"06\\nPsykisk krise-mulig\\nselvmordsrisiko\"},\n",
      "  {\"box_2d\": [375, 832, 388, 893], \"label\": \"27 Hjerneslagsymptomer\"},\n",
      "  {\"box_2d\": [376, 900, 390, 937], \"label\": \"SNØSKRED\"},\n",
      "  {\"box_2d\": [411, 721, 427, 777], \"label\": \"SKADE/ULYKKE\"},\n",
      "  {\"box_2d\": [414, 832, 427, 858], \"label\": \"28 Hodepine\"},\n",
      "  {\"box_2d\": [414, 900, 427, 948], \"label\": \"TRAFIKKULYKKE\"},\n",
      "  {\"box_2d\": [451, 721, 465, 770], \"label\": \"07 Brannskade\"},\n",
      "  {\"box_2d\": [451, 832, 465, 860], \"label\": \"29 Hud/utslett\"},\n",
      "  {\"box_2d\": [453, 900, 466, 984], \"label\": \"Om tiltakskort for trippelvarsling\"},\n",
      "  {\"box_2d\": [489, 721, 503, 759], \"label\": \"08 Drukning\"},\n",
      "  {\"box_2d\": [489, 832, 503, 860], \"label\": \"30 Hypertermi\"},\n",
      "  {\"box_2d\": [482, 900, 509, 986], \"label\": \"Prosessen samhandling ved\\ntrippelvarslingshendelse\"},\n",
      "  {\"box_2d\": [527, 721, 540, 753], \"label\": \"09 Dykkerulykke\"},\n",
      "  {\"box_2d\": [527, 832, 540, 857], \"label\": \"31 Hypotermi\"},\n",
      "  {\"box_2d\": [527, 900, 540, 985], \"label\": \"INFORMASJONSKAPITLER\"},\n",
      "  {\"box_2d\": [559, 721, 587, 789], \"label\": \"10\\nKjemikalier/gasser/\\nCBRNE\"},\n",
      "  {\"box_2d\": [565, 832, 579, 871], \"label\": \"32 Krampeanfall\"},\n",
      "  {\"box_2d\": [569, 919, 582, 983], \"label\": \"Samtale med innringer\"},\n",
      "  {\"box_2d\": [605, 721, 619, 742], \"label\": \"11 Skade\"},\n",
      "  {\"box_2d\": [605, 832, 619, 875], \"label\": \"33 Pustevansker\"},\n",
      "  {\"box_2d\": [608, 919, 621, 971], \"label\": \"Generell respons\"},\n",
      "  {\"box_2d\": [637, 721, 664, 807], \"label\": \"12\\nStor hendelse/\\nmasseskadehendelse\"},\n",
      "  {\"box_2d\": [645, 832, 659, 872], \"label\": \"34 Rus/overdose\"},\n",
      "  {\"box_2d\": [647, 919, 660, 954], \"label\": \"Om NIMN 5.0\"},\n",
      "  {\"box_2d\": [679, 721, 693, 769], \"label\": \"13 Trafikkskade\"},\n",
      "  {\"box_2d\": [673, 832, 701, 916], \"label\": \"35\\nSmerter i mage/rygg/\\nekstremiteter\"},\n",
      "  {\"box_2d\": [677, 919, 704, 975], \"label\": \"Definisjoner og\\nskåringsverktøy\"},\n",
      "  {\"box_2d\": [719, 721, 733, 777], \"label\": \"14 Vold/mishandling\"},\n",
      "  {\"box_2d\": [719, 832, 733, 878], \"label\": \"36 Uavklart problem\"},\n",
      "  {\"box_2d\": [722, 919, 736, 937], \"label\": \"Kilder\"},\n",
      "  {\"box_2d\": [759, 721, 775, 763], \"label\": \"SOMATIKK\"},\n",
      "  {\"box_2d\": [759, 832, 773, 852], \"label\": \"37 Urinveier\"},\n",
      "  {\"box_2d\": [800, 721, 813, 791], \"label\": \"15 Allergisk reaksjon\"},\n",
      "  {\"box_2d\": [797, 832, 811, 879], \"label\": \"38 Øre/nese/hals\"},\n",
      "  {\"box_2d\": [841, 721, 854, 778], \"label\": \"16 Barn - sykdom\"},\n",
      "  {\"box_2d\": [841, 832, 854, 845], \"label\": \"39 Øye\"},\n",
      "  {\"box_2d\": [876, 721, 889, 778], \"label\": \"17 Bitt/insektstikk\"},\n",
      "  {\"box_2d\": [868, 810, 896, 888], \"label\": \"SYKETRANSPORT/\\nBESTILT OPPDRAG\"},\n",
      "  {\"box_2d\": [907, 721, 935, 791], \"label\": \"18\\nBlødning-ikke\\ntraumatisk\"},\n",
      "  {\"box_2d\": [914, 832, 928, 866], \"label\": \"40 Psykisk helse\"},\n",
      "  {\"box_2d\": [949, 721, 976, 787], \"label\": \"19\\nBrystsmerter/\\nhjertesykdom\"},\n",
      "  {\"box_2d\": [958, 832, 971, 862], \"label\": \"41 Somatikk\"}\n",
      "]\n",
      "```\n",
      "\n",
      "Here's the structured output from the image:\n",
      "\n",
      "```json\n",
      "[\n",
      "  {\"section\": \"08 Drukning\", \"text\": \"08 Drukning\\nOM DRUKNING\\nDE FLESTE SYNKER RASKT TIL BUNNS\\n80-90% av de som drukner, aspirerer så mye vann at de raskt synker til bunns.\\nHvis de ikke blir reddet, vil de først flyte opp igjen når det etterhvert dannes\\nnok forråtningsgasser i bukhulen. Dette kan ta dager til uker, avhengig av\\nvanntemperaturen. 10-20% av ulykkene er «tørrdrukninger>> med låsing av\\nstemmebåndene i lukket stilling (larynxspasme) på grunn av dykkerrefleksen. Den\\nskadede personen aspirerer bare små mengder vann og finnes da oftest flytende i\\nvannskorpen.\\nOVERLEVELSE VED DRUKNING\\nDette avhenger først og fremst av hvor lenge hjernen har vært uten oksygen.\\nRaskt igangsatt ventilasjon (munn-til-munn) og brystkompresjon kan alene\\nstarte sirkulasjonen (i motsetning til ved ventrikkelflimmer i forbindelse med\\nakutt hjertesykdom der defibrillering er helt nødvendig). Derfor anbefales hurtigst\\nmulig start av innblåsinger, helst før pas. er oppe av vannet, og så at bryst-\\nkompresjon startes så snart det er praktisk mulig.\\nNEDKJØLING (HYPOTERMI)\\nVed nedkjøling kan hjernen overleve lang tid uten oksygen. Dykkerrefleksen fører\\ntil at blodsirkulasjonen omfordeles til hjertet og hjernen. Lang tid under vann er\\nikke alltid ensbetydende med at pas. er død. Start HLR på vide indikasjoner på\\nskadested og fortsett under transport til nærmeste sykehus med hjerte-lungemaskin.\\nHjertekompresjonsmaskin kan med fordel brukes her. Se 31 Hypotermi. Pasienter har\\noverlevd uten hjerneskade etter mer enn en time under vann.\\nLUNGEPROBLEMER\\nEn pasient som har fått vann i lungene, kan utvikle pustevansker som forverres i timene\\netter ulykken. Også symptomfrie pasienter skal derfor innlegges til observasjon.\\nHODE/NAKKESKADER (STUPEULYKKER)\\nIkke overse nakke- og hodeskader hos druknede. Spør etter lammelser, nedsatt førlighet\\nog nedsatt følelse i armer og ben. Spesielt er dette viktig ved stupeulykker. Alvorlig hode-\\neller nakkeskade kan gi bevisstløshet og pustevansker. Ved mistanke om nakkeskade\\nskal nakken beveges minst mulig. Ved behov for å etablere frie luftveier og ev. starte\\nHLR skal hodet beveges sammen med kroppen for å unngå bevegelser i nakken. Hvis\\nnakkekrage er tilgjengelig, skal hodet stabiliseres med denne.\\nSe 11 Skade\\nANDRE SAMTIDIGE TILSTANDER VED DRUKNINGSULYKKER\\nVær oppmerksom på samtidig intoksikasjon med alkohol eller medikamenter og at\\nsuicidalforsøk også kan ligge bak noen drukningsulykker.\\nSALTVANNS-/ FERSKVANNSDRUKNING\\nDet spiller liten rolle for overlevelsen om drukningen skjer i saltvann eller ferskvann.\\nKlorvann i svømmebasseng gir vanligvis ikke spesielle lungekomplikasjoner. Men\\nsterkt forurenset vann (bekker, stillestående småvann og kloakkvann) gir ofte alvorlige\\nlungeproblemer langt ut i forløpet.\\nSe traumatologi.no (aksidentell hypotermi)\"},\n",
      "  {\"section\": \"LOKAL TILPASNING\", \"text\": \"LOKAL TILPASNING\\nNavn på AMK / LVS:\\nNavn på ansvarlig leder / medisinsk rådgiver:\\nDato / gyldighet på prosedyren:\"},\n",
      "  {\"section\": \"STARTKORT\", \"text\": \"STARTKORT\\nINSTRUKSJONSOPPSLAG/\\nLIVREDDENDE FØRSTEHJELP\\n01\\nBevisstløs voksen\\n- puster ikke normalt\\n02\\nBevisstløst barn og nyfødt\\n- puster ikke normalt\\n03\\nBevisstløs/redusert\\nbevissthet-puster normalt\\n04 Fremmedlegeme\"},\n",
      "  {\"section\": \"SOMATIKK FORTS.\", \"text\": \"SOMATIKK FORTS.\\n20 Diabetes\\n21 Dødsfall/mulig dødsfall\\n22 Feber/infeksjon/ sepsis\\n23\\nForgiftning- ikke\\nrusrelatert\\n24 Funksjonssvikt\\n25 Fødsel\\n26 Gynekologi/svangerskap\\n27 Hjerneslagsymptomer\\n28 Hodepine\\n29 Hud/utslett\\n30 Hypertermi\\n31 Hypotermi\\n32 Krampeanfall\\n33 Pustevansker\\n34 Rus/overdose\\n35\\nSmerter i mage/rygg/\\nekstremiteter\\n36 Uavklart problem\"},\n",
      "  {\"section\": \"NASJONALE\", \"text\": \"NASJONALE\\nTRIPPELVARSLINGSPROSEDYRER\\nBRANN I BYGNING\\nCBRNE/AKUTT FORURENSNING\\nHENDELSE I TUNNEL\\nJERNBANE-/SPORVEISULYKKE\\nLUFTSPORTSULYKKE\\nPERSON I VANN\\nSJØULYKKE/HENDELSE PÅ VANN\\nSNØSKRED\\nTRAFIKKULYKKE\\nOm tiltakskort for trippelvarsling\\nProsessen samhandling ved\\ntrippelvarslingshendelse\\nINFORMASJONSKAPITLER\\ni Samtale med innringer\\nii\\nGenerell respons\\niii\\nOm NIMN 5.0\\niv\\nDefinisjoner og\\nskåringsverktøy\\nv Kilder\"},\n",
      "  {\"section\": \"PSYKISK HELSE\", \"text\": \"PSYKISK HELSE\\n05 Psykisk helse/lidelse\\n06\\nPsykisk krise-mulig\\nselvmordsrisiko\"},\n",
      "  {\"section\": \"SKADE/ULYKKE\", \"text\": \"SKADE/ULYKKE\\n07 Brannskade\\n08 Drukning\\n09 Dykkerulykke\\n10\\nKjemikalier/gasser/\\nCBRNE\\n11 Skade\\n12\\nStor hendelse/\\nmasseskadehendelse\\n13 Trafikkskade\\n14 Vold/mishandling\"},\n",
      "  {\"section\": \"SOMATIKK\", \"text\": \"SOMATIKK\\n15 Allergisk reaksjon\\n16 Barn - sykdom\\n17 Bitt/insektstikk\\n18\\nBlødning-ikke\\ntraumatisk\\n19\\nBrystsmerter/\\nhjertesykdom\"},\n",
      "  {\"section\": \"SYKETRANSPORT/\", \"text\": \"SYKETRANSPORT/\\nBESTILT OPPDRAG\\n40 Psykisk helse\\n41 Somatikk\"}\n",
      "]\n",
      "```\n"
     ]
    }
   ],
   "source": [
    "from PIL import Image\n",
    "\n",
    "image = Image.open(\"Images\\image.png\")\n",
    "response = model.generate_content(\n",
    "    contents=[image, \"give an image do an OCR, check how many section can be made and output text from each section in structured manner.\"])\n",
    "print(response.text)"
   ]
  },
  {
   "cell_type": "code",
   "execution_count": null,
   "metadata": {},
   "outputs": [
    {
     "name": "stdout",
     "output_type": "stream",
     "text": [
      "OCR dataset created and saved as ocr_dataset.csv!\n"
     ]
    }
   ],
   "source": [
    "import os\n",
    "import pandas as pd\n",
    "\n",
    "# Define dataset directories\n",
    "image_dir =r\"C:\\Users\\newac\\OneDrive\\Desktop\\ocr_test_data\\images\"\n",
    "text_dir = r\"C:\\Users\\newac\\OneDrive\\Desktop\\ocr_test_data\\ocr_text\"\n",
    "\n",
    "# Initialize dataset list\n",
    "dataset = []\n",
    "\n",
    "# Loop through images\n",
    "for image_file in sorted(os.listdir(image_dir)):  \n",
    "    if image_file.endswith(\".png\") or image_file.endswith(\".jpg\"):\n",
    "        # Get corresponding OCR text file\n",
    "        base_name = os.path.splitext(image_file)[0]  # Extract \"img_01\" from \"img_01.png\"\n",
    "        text_file = f\"{base_name}_ocr.txt\"\n",
    "        text_path = os.path.join(text_dir, text_file)\n",
    "\n",
    "        # Read extracted text\n",
    "        if os.path.exists(text_path):\n",
    "            with open(text_path, \"r\", encoding=\"utf-8\") as file:\n",
    "                extracted_text = file.read().strip()\n",
    "        else:\n",
    "            extracted_text = \"\"\n",
    "\n",
    "        # Store result\n",
    "        dataset.append({\"Image File \": image_file, \"Extracted Text\": extracted_text})\n",
    "\n",
    "# Convert to DataFrame\n",
    "df = pd.DataFrame(dataset)\n",
    "\n",
    "# Save dataset to CSV\n",
    "df.to_csv(\"ocr_dataset.csv\", index=False)\n",
    "\n",
    "print(\"OCR dataset created and saved as ocr_dataset.csv!\")\n"
   ]
  },
  {
   "cell_type": "code",
   "execution_count": 3,
   "metadata": {},
   "outputs": [
    {
     "name": "stdout",
     "output_type": "stream",
     "text": [
      "   Image File                                     Extracted Text\n",
      "0  img_01.png  CRITERIA\\n\\nA.01.01        Bevisstløs voksen, ...\n",
      "1  img_02.png  Sections and Extracted Text:\\n\\n1. Title:\\n\\nE...\n",
      "2  img_03.png  Sections and Extracted Text:\\n\\n1. Title:\\n\\nE...\n"
     ]
    }
   ],
   "source": [
    "# Read the CSV file into a DataFrame\n",
    "ocr_dataset = pd.read_csv(\"ocr_dataset.csv\")\n",
    "\n",
    "# Display the first few rows of the DataFrame\n",
    "print(ocr_dataset.head())"
   ]
  },
  {
   "cell_type": "code",
   "execution_count": 12,
   "metadata": {},
   "outputs": [
    {
     "name": "stderr",
     "output_type": "stream",
     "text": [
      "<>:1: SyntaxWarning: invalid escape sequence '\\i'\n",
      "<>:1: SyntaxWarning: invalid escape sequence '\\i'\n",
      "C:\\Users\\newac\\AppData\\Local\\Temp\\ipykernel_29176\\1755473484.py:1: SyntaxWarning: invalid escape sequence '\\i'\n",
      "  image = Image.open(\"Images\\image.png\")\n"
     ]
    },
    {
     "name": "stdout",
     "output_type": "stream",
     "text": [
      "Here's a breakdown of the image content, structured into sections based on visual divisions and content:\n",
      "\n",
      "**Section 1: Main Text - Drowning (Left Column)**\n",
      "\n",
      "*   **OM DRUKNING (ABOUT DROWNING):**\n",
      "    *   **DE FLESTE SYNKER RASKT TIL BUNNS (MOST SINK QUICKLY TO THE BOTTOM):**\n",
      "        *   80-90% of those who drown, aspirate so little water that they quickly sink to the bottom.\n",
      "        *   If they are not rescued, the first will float up again after the heart has stopped.\n",
      "        *   This can take days to weeks, depending on water temperature.\n",
      "        *   10-20% of drowning accidents are \"dry drowning\" with closure of the vocal cords in the throat (laryngeal spasm) due to the diving reflex. The drowned person aspirates very small amounts of water and is often found floating in the water column.\n",
      "    *   **OVERLEVELSE VED DRUKNING (SURVIVAL IN DROWNING):**\n",
      "        *   This depends first and foremost on how long the brain has been without oxygen.\n",
      "        *   Starting ventilation (mouth-to-mouth) and chest compressions can only begin circulation (as opposed to ventricular fibrillation in connection with acute heart attack where defibrillation is absolutely necessary). Therefore, it is recommended as soon as possible to start with blowing, preferably before the person is on the surface of the water, and chest compressions are started as soon as it is practically possible.\n",
      "    * **NEDKJØLING (HYPOTHERMIA):**\n",
      "      * With hypothermia, the brain can survive a long time with out oxygen. Diving reflex will decrease the bloodcirculation for the heart and the brain. Long time under water is almost the same with passing. Death. CPR is extended in these cases. The patient is warmed in hospital, and continued treatment at hospital with cardio-pulmunory machine can help the brain. Check 31 Hypothermia. Patient who survives under the water can live up to 1 hour.\n",
      "    * **LUNGEPROBLEMER(Lung issues):**\n",
      "      *   A patient who has gotten water in the lungs can develop lung complications for hours after the accident. Therefore, symptomatic patients should be admitted for observation.\n",
      "    * **HODE / NAKKESKADER (STUPEULYKKER) Head and Neck injuries (diving accidents)**:\n",
      "        * Check for paralysis, impaired conciousness, and reduced sensation in the arms and legs. It is very importaint to get the airway clear. In a neckinjury, it is importaint to move the neck as little as possible. The need to maintain an open airway. Start CPR, if not breathing properly, and if the neck is injured, move the body as a whole, so the neck stays in the same position. If a neck collar is available, stabilize the neck with this. See 11 Damage.\n",
      "    * **ANDRE SAMTIDIGE TILSTANDER VED DRUKNINGSULYKKER (OTHER CONTEMPORARY CONDITIONS IN DROWNING ACCIDENTS):**\n",
      "    *Be aware of simultaneous intoxication with alcohol or medication and suicide attempts can also be behind some drowning accidents.*\n",
      "    * **SALTVANNS- / FERSKVANNSDRUKNING (SALT WATER / FRESH WATER DROWNING):**\n",
      "      *It does not matter if the water is salt or fresh.\n",
      "      *In the swinmming pools, klorine will not cause breathing problems.\n",
      "      *Dirty water(creeks, sewage) can cause sever lung complications.*\n",
      "*   **Se traumatologi.no (aksidentell hypotermi)** (See traumatologi.no (accidental hypothermia))\n",
      "\n",
      "**Section 2: Local Adaptation (Top Middle)**\n",
      "\n",
      "*   **LOKAL TILPASNING (LOCAL ADAPTATION):**\n",
      "    *   Navn på AMK / LVS: (Name of AMK / LVS:)\n",
      "    *   Navn på ansvarlig leder / medisinsk rådgiver: (Name of responsible manager / medical advisor:)\n",
      "    *   Dato / gyldighet på prosedyren: (Date / validity of the procedure:)\n",
      "\n",
      "**Section 3: STARTKORT/Instructions (Right Column)**\n",
      "* **Startkort**\n",
      "\n",
      "* **Instruksjonssoppslag/ Livredende Førstehjelp**\n",
      "1.  **01** Bevisstløs voksen - puster ikke normalt.\n",
      "2.  **02** Bevisstløst Barn og nyfødt - puster ikke normalt\n",
      "3. **03** Bevisstløs/ redusert bevissthet - puster normalt\n",
      "4.  **04** Fremmedlegeme\n",
      "\n",
      "*   **PSYKISK HELSE (MENTAL HEALTH)**\n",
      "    *   **05** Psykisk helse / lidelse (Mental health / disorder)\n",
      "    *   **06** Psykisk krise – mulig selvmordsrisiko (Mental crisis - possible suicide risk)\n",
      "\n",
      "*   **SKADE / ULYKKE (INJURY / ACCIDENT)**\n",
      "    *   **07** Brannskade (Burn)\n",
      "    *   **08** Drukning (Drowning)\n",
      "    *   **09** Dykkerulykke (Diving accident)\n",
      "    *   **10** Kjemikalier / gasser / CBRNE (Chemicals / gases / CBRNE)\n",
      "    *   **11** Skade (Injury)\n",
      "    *   **12** Stor hendelse / masseskadehendelse (Major incident / mass casualty incident)\n",
      "    *   **13** Trafikkskade (Traffic injury)\n",
      "    *   **14** Vold / mishandling (Violence / abuse)\n",
      "\n",
      "*   **SOMATIKK (SOMATIC)**\n",
      "    *   **15** Allergisk reaksjon (Allergic reaction)\n",
      "    *   **16** Barn – sykdom (Child - illness)\n",
      "    *   **17** Bitt / insektstikk (Bite / insect sting)\n",
      "    *   **18** Blødning – ikke traumatisk (Bleeding - non-traumatic)\n",
      "    *   **19** Brystsmerter / hjertesykdom (Chest pain / heart disease)\n",
      "    * **20** Diabetes\n",
      "    *   **21** Dødsfall / mulig dødsfall (Death / possible death)\n",
      "    *   **22** Feber / infeksjon / sepsis (Fever / infection / sepsis)\n",
      "    *   **23** Forgiftning – ikke rusrelatert (Poisoning - not drug-related)\n",
      "    *   **24** Funksjonssvikt (Functional impairment)\n",
      "    *   **25** Fødsel (Birth)\n",
      "    *   **26** Gynekologi / svangerskap (Gynecology / pregnancy)\n",
      "    *   **27** Hjerneslagsymptomer (Stroke symptoms)\n",
      "    * **28** Hodepine\n",
      "    * **29** Hud/Utslett\n",
      "    * **30** Hypertermi\n",
      "    * **31** Hypotermi\n",
      "    * **32** Krampeanfall\n",
      "    * **33** Pustevansker\n",
      "    * **34** Rus / overdose\n",
      "    * **35** Smerter i mage, rygg, ekstremiteter\n",
      "    * **36** Uavklar problem\n",
      "    * **37** Urinveier\n",
      "    * **38** Øre/Nese/Hals\n",
      "    * **39** Øye\n",
      "    *   **SYKETRANSPORT / BESTILT OPPDRAG (PATIENT TRANSPORT / ORDERED ASSIGNMENT)**\n",
      "        *   **40** Psykisk helse (Mental health)\n",
      "        *   **41** Somatikk (Somatic)\n",
      "*   **SOMATIKK FORTS. (SOMATIC CONT.)**\n",
      "\n",
      "* **NASJONALE TRIPPELVARSLINGSPROSEDYRER (NATIONAL TRIPLE WARNING PROCEDURES):**\n",
      "\n",
      "  *   BRANN I BYGNING (FIRE IN BUILDING)\n",
      "  *  CBRNE / AKUTT FORURENSNING\n",
      "  *  HENDELSE I TUNNEL\n",
      "  *  JERNBANE/SPORVEISULYKKE\n",
      "  *  LUFTSPORTSULYKKE\n",
      "  *   PERSON I VANN (PERSON IN WATER)\n",
      "    *   SJØULYKKE / HENDELSE PÅ VANN (SEA ACCIDENT / INCIDENT ON WATER)\n",
      "    *   SNØSKRED (AVALANCHE)\n",
      "    *   TRAFIKKULYKKE (TRAFFIC ACCIDENT)\n",
      "    * Om tiltakskort for trippelvarsling\n",
      " *  **Prosessen samhandling ved trippelvarslingshendelse**\n",
      "*  **Informasjonskapitler**\n",
      "\n",
      "*   **i** Samtale med innringer\n",
      "* **ii** Generell respons\n",
      "*   **iii** Om NIMN 5.0\n",
      "* **iv** Definisjoner og skåringsverktøy\n",
      "*   **v** Kilder\n",
      "\n"
     ]
    }
   ],
   "source": [
    "image = Image.open(\"Images\\image.png\")\n",
    "response = model.generate_content(\n",
    "    contents=[image,\"OCR dataset contains the example of how to OCR on an image. give an image, check how many section can be made and output text from each section in structured manner.\"])\n",
    "print(response.text)"
   ]
  },
  {
   "cell_type": "code",
   "execution_count": 18,
   "metadata": {},
   "outputs": [
    {
     "ename": "ValueError",
     "evalue": "Invalid operation: The `response.text` quick accessor requires the response to contain a valid `Part`, but none were returned. The candidate's [finish_reason](https://ai.google.dev/api/generate-content#finishreason) is 4. Meaning that the model was reciting from copyrighted material.",
     "output_type": "error",
     "traceback": [
      "\u001b[31m---------------------------------------------------------------------------\u001b[39m",
      "\u001b[31mValueError\u001b[39m                                Traceback (most recent call last)",
      "\u001b[36mCell\u001b[39m\u001b[36m \u001b[39m\u001b[32mIn[18]\u001b[39m\u001b[32m, line 12\u001b[39m\n\u001b[32m      7\u001b[39m response = model.generate_content(\n\u001b[32m      8\u001b[39m     contents=[system_instructions,prompt, image]\n\u001b[32m      9\u001b[39m )\n\u001b[32m     11\u001b[39m \u001b[38;5;66;03m# Check output\u001b[39;00m\n\u001b[32m---> \u001b[39m\u001b[32m12\u001b[39m \u001b[38;5;28mprint\u001b[39m(\u001b[43mresponse\u001b[49m\u001b[43m.\u001b[49m\u001b[43mtext\u001b[49m)\n",
      "\u001b[36mFile \u001b[39m\u001b[32mc:\\Users\\newac\\OneDrive\\Desktop\\Master\\.venv\\Lib\\site-packages\\google\\generativeai\\types\\generation_types.py:488\u001b[39m, in \u001b[36mBaseGenerateContentResponse.text\u001b[39m\u001b[34m(self)\u001b[39m\n\u001b[32m    483\u001b[39m     \u001b[38;5;28;01mraise\u001b[39;00m \u001b[38;5;167;01mValueError\u001b[39;00m(\n\u001b[32m    484\u001b[39m         msg + \u001b[33mf\u001b[39m\u001b[33m\"\u001b[39m\u001b[33m The candidate\u001b[39m\u001b[33m'\u001b[39m\u001b[33ms safety_ratings are: \u001b[39m\u001b[38;5;132;01m{\u001b[39;00mcandidate.safety_ratings\u001b[38;5;132;01m}\u001b[39;00m\u001b[33m.\u001b[39m\u001b[33m\"\u001b[39m,\n\u001b[32m    485\u001b[39m         candidate.safety_ratings,\n\u001b[32m    486\u001b[39m     )\n\u001b[32m    487\u001b[39m \u001b[38;5;28;01melif\u001b[39;00m fr \u001b[38;5;129;01mis\u001b[39;00m FinishReason.RECITATION:\n\u001b[32m--> \u001b[39m\u001b[32m488\u001b[39m     \u001b[38;5;28;01mraise\u001b[39;00m \u001b[38;5;167;01mValueError\u001b[39;00m(\n\u001b[32m    489\u001b[39m         msg + \u001b[33m\"\u001b[39m\u001b[33m Meaning that the model was reciting from copyrighted material.\u001b[39m\u001b[33m\"\u001b[39m\n\u001b[32m    490\u001b[39m     )\n\u001b[32m    491\u001b[39m \u001b[38;5;28;01melif\u001b[39;00m fr \u001b[38;5;129;01mis\u001b[39;00m FinishReason.LANGUAGE:\n\u001b[32m    492\u001b[39m     \u001b[38;5;28;01mraise\u001b[39;00m \u001b[38;5;167;01mValueError\u001b[39;00m(msg + \u001b[33m\"\u001b[39m\u001b[33m Meaning the response was using an unsupported language.\u001b[39m\u001b[33m\"\u001b[39m)\n",
      "\u001b[31mValueError\u001b[39m: Invalid operation: The `response.text` quick accessor requires the response to contain a valid `Part`, but none were returned. The candidate's [finish_reason](https://ai.google.dev/api/generate-content#finishreason) is 4. Meaning that the model was reciting from copyrighted material."
     ]
    }
   ],
   "source": [
    "from google.genai import types\n",
    "\n",
    "prompt = \"OCR dataset contains the example of how to OCR on an image. give an image, check how many section can be made and output text from each section in structured manner.\" \n",
    "system_instructions = f\"{ocr_dataset} OCR dataset contains the example of how to OCR on an image. Please look at image and output the text from each section in structured manner.\"\n",
    "\n",
    "# Run model to find bounding boxes\n",
    "response = model.generate_content(\n",
    "    contents=[system_instructions,prompt, image]\n",
    ")\n",
    "\n",
    "# Check output\n",
    "print(response.text)"
   ]
  },
  {
   "cell_type": "code",
   "execution_count": null,
   "metadata": {},
   "outputs": [],
   "source": []
  }
 ],
 "metadata": {
  "kernelspec": {
   "display_name": ".venv",
   "language": "python",
   "name": "python3"
  },
  "language_info": {
   "codemirror_mode": {
    "name": "ipython",
    "version": 3
   },
   "file_extension": ".py",
   "mimetype": "text/x-python",
   "name": "python",
   "nbconvert_exporter": "python",
   "pygments_lexer": "ipython3",
   "version": "3.12.2"
  }
 },
 "nbformat": 4,
 "nbformat_minor": 2
}
