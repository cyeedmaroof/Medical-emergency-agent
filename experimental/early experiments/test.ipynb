{
 "cells": [
  {
   "cell_type": "code",
   "execution_count": 1,
   "metadata": {},
   "outputs": [],
   "source": [
    "import os \n",
    "import base64\n",
    "from openai import AzureOpenAI\n",
    "import openai\n",
    "# Import Azure OpenAI\n",
    "# from langchain_openai import AzureChatOpenAI\n",
    "from langchain_core.messages import HumanMessage, SystemMessage\n",
    "# from langchain import LLMChain\n",
    "\n",
    "endpoint = os.getenv(\"ENDPOINT_URL\") \n",
    "deployment = os.getenv(\"DEPLOYMENT_NAME\") \n",
    "subscription_key = os.getenv(\"AZURE_OPENAI_API_KEY\") \n",
    "api_version = os.getenv(\"API_VERSION\")\n",
    "\n",
    "model = AzureOpenAI( \n",
    "    azure_endpoint=os.getenv(\"ENDPOINT_URL\"),\n",
    "    api_key=os.getenv(\"AZURE_OPENAI_API_KEY\"), \n",
    "    api_version=os.getenv(\"API_VERSION\"),\n",
    "    \n",
    ")"
   ]
  },
  {
   "cell_type": "code",
   "execution_count": 3,
   "metadata": {},
   "outputs": [
    {
     "name": "stdout",
     "output_type": "stream",
     "text": [
      "In the cloud where visions soar,  \n",
      "Azure OpenAI opens doors,  \n",
      "A realm of thoughts where minds align,  \n",
      "Crafting wonders, both grand and fine.  \n",
      "\n",
      "With lines of code that dance and weave,  \n",
      "A tapestry of dreams, we believe,  \n",
      "From whispers soft to roars of might,  \n",
      "An AI born from sheer insight.  \n",
      "\n",
      "In azure skies, intelligence flies,  \n",
      "With every query, a new sunrise,  \n",
      "From language rich to knowledge vast,  \n",
      "A future bright, it's here at last.  \n",
      "\n",
      "With voices echoing through the tech,  \n",
      "Bridges built, the world we connect,  \n",
      "Invention sparks with every chance,  \n",
      "A digital world, a cosmic dance.  \n",
      "\n",
      "So here's to the tools that help us create,  \n",
      "To Azure OpenAI, we celebrate,  \n",
      "For in its depths, possibility flows,  \n",
      "A garden of ideas, where brilliance grows.  \n"
     ]
    }
   ],
   "source": [
    "response = model.chat.completions.create(\n",
    "    model = deployment,\n",
    "    messages=[\n",
    "        {\"role\": \"system\", \"content\": \"You are a helpful assistant.\"},\n",
    "        {\"role\": \"user\", \"content\": \"Does Azure OpenAI support customer managed keys?\"},\n",
    "        {\"role\": \"assistant\", \"content\": \"Yes, customer managed keys are supported by Azure OpenAI.\"},\n",
    "        {\"role\": \"user\", \"content\": \"write me a poem about azure openai\"},\n",
    "    ]\n",
    ")\n",
    "\n",
    "print(response.choices[0].message.content)"
   ]
  },
  {
   "cell_type": "code",
   "execution_count": null,
   "metadata": {},
   "outputs": [],
   "source": []
  }
 ],
 "metadata": {
  "kernelspec": {
   "display_name": ".venv",
   "language": "python",
   "name": "python3"
  },
  "language_info": {
   "codemirror_mode": {
    "name": "ipython",
    "version": 3
   },
   "file_extension": ".py",
   "mimetype": "text/x-python",
   "name": "python",
   "nbconvert_exporter": "python",
   "pygments_lexer": "ipython3",
   "version": "3.12.2"
  }
 },
 "nbformat": 4,
 "nbformat_minor": 2
}
